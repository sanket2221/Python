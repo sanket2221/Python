{
 "cells": [
  {
   "cell_type": "markdown",
   "metadata": {},
   "source": [
    "## Count pairs in a array with a given sum"
   ]
  },
  {
   "cell_type": "code",
   "execution_count": 1,
   "metadata": {},
   "outputs": [],
   "source": [
    "from collections import Counter\n",
    "'''\n",
    "def countsum(a,K):\n",
    "    d = Counter(a)\n",
    "    count = 0\n",
    "    for num in a:\n",
    "        if d[K-num]>0:\n",
    "            count+=1\n",
    "            d[num]-=1\n",
    "            print(num,K-num)\n",
    "    \n",
    "    return count\n",
    "\n",
    "'''\n",
    "###\n",
    "import itertools  \n",
    "\n",
    "def countsum(a,K):\n",
    "    count = 0\n",
    "    for e in itertools.combinations(a,2):\n",
    "        if sum(e) == K:\n",
    "            count += 1\n",
    "            \n",
    "    return count"
   ]
  },
  {
   "cell_type": "code",
   "execution_count": 3,
   "metadata": {},
   "outputs": [
    {
     "data": {
      "text/plain": [
       "1"
      ]
     },
     "execution_count": 3,
     "metadata": {},
     "output_type": "execute_result"
    }
   ],
   "source": [
    "a = [11,2,8]\n",
    "countsum(a,13)"
   ]
  },
  {
   "cell_type": "markdown",
   "metadata": {},
   "source": [
    "## Group Anagrams Together"
   ]
  },
  {
   "cell_type": "code",
   "execution_count": 54,
   "metadata": {},
   "outputs": [],
   "source": [
    "from collections import defaultdict\n",
    "test_list = ['lump', 'eat',  'me',  'tea', 'em', 'plum'] \n",
    "\n",
    "def group(test_list):\n",
    "    temp  = defaultdict(list)\n",
    "    for elem in test_list:\n",
    "        temp[str(sorted(elem))].append(elem)\n",
    "    return temp.values()\n"
   ]
  },
  {
   "cell_type": "code",
   "execution_count": 55,
   "metadata": {},
   "outputs": [
    {
     "data": {
      "text/plain": [
       "dict_values([['lump', 'plum'], ['eat', 'tea'], ['me', 'em']])"
      ]
     },
     "execution_count": 55,
     "metadata": {},
     "output_type": "execute_result"
    }
   ],
   "source": [
    "group(test_list)"
   ]
  },
  {
   "cell_type": "markdown",
   "metadata": {},
   "source": [
    "## Overlapping Rectangles"
   ]
  },
  {
   "cell_type": "code",
   "execution_count": 56,
   "metadata": {},
   "outputs": [],
   "source": [
    "class Point():\n",
    "    def __init__(self,x,y):\n",
    "        self.x = x\n",
    "        self.y = y"
   ]
  },
  {
   "cell_type": "code",
   "execution_count": 60,
   "metadata": {},
   "outputs": [],
   "source": [
    "def check(l1,r1,l2,r2):\n",
    "    if (l1.x>=r2.x) or (l2.x>=r1.x):\n",
    "        return False\n",
    "    if (l1.y<=r2.y) or (l2.y<=r1.y):\n",
    "        return False\n",
    "    \n",
    "    return True"
   ]
  },
  {
   "cell_type": "code",
   "execution_count": 61,
   "metadata": {},
   "outputs": [
    {
     "data": {
      "text/plain": [
       "True"
      ]
     },
     "execution_count": 61,
     "metadata": {},
     "output_type": "execute_result"
    }
   ],
   "source": [
    "l1 = Point(0, 10) \n",
    "r1 = Point(10, 0) \n",
    "l2 = Point(5, 5) \n",
    "r2 = Point(15, 0)\n",
    "check(l1,r1,l2,r2)"
   ]
  },
  {
   "cell_type": "markdown",
   "metadata": {},
   "source": [
    "## Nth Ugly Number (number only divisible by 2,3,5)"
   ]
  },
  {
   "cell_type": "code",
   "execution_count": 70,
   "metadata": {},
   "outputs": [],
   "source": [
    "def nthugly(n):\n",
    "    ugly = [0]*n # to store ugly no.s\n",
    "     \n",
    "    i2 = i3 = i5 = 0\n",
    "    \n",
    "    multiple_2 = 2\n",
    "    multiple_3 = 3\n",
    "    multiple_5 = 5\n",
    "    ugly[0] = 1\n",
    "    for l in range(1,n):\n",
    "        ugly[l] = min(multiple_2,multiple_3,multiple_5)\n",
    "        \n",
    "        if ugly[l] == multiple_2:\n",
    "            i2+=1\n",
    "            multiple_2=ugly[i2]*2\n",
    "        if ugly[l] == multiple_3:\n",
    "            i3+=1\n",
    "            multiple_3=ugly[i3]*3\n",
    "        if ugly[l] == multiple_5:\n",
    "            i5+=1\n",
    "            multiple_5=ugly[i5]*5\n",
    "    return ugly[-1]\n",
    "        \n",
    "    "
   ]
  },
  {
   "cell_type": "code",
   "execution_count": 71,
   "metadata": {},
   "outputs": [
    {
     "data": {
      "text/plain": [
       "5832"
      ]
     },
     "execution_count": 71,
     "metadata": {},
     "output_type": "execute_result"
    }
   ],
   "source": [
    "nthugly(150)"
   ]
  },
  {
   "cell_type": "markdown",
   "metadata": {},
   "source": [
    "## Column name from column number"
   ]
  },
  {
   "cell_type": "code",
   "execution_count": 133,
   "metadata": {},
   "outputs": [],
   "source": [
    "def name(n):\n",
    "    mul = n//26\n",
    "    string = ['\\0']*50\n",
    "    i = 0\n",
    "    while n>0:\n",
    "        rem = n%26\n",
    "        \n",
    "        if rem ==0:\n",
    "            string[i] = \"Z\"\n",
    "            i+=1\n",
    "            n = (n/26) - 1\n",
    "        else:\n",
    "            rem = int(rem)\n",
    "            string[i] = chr(rem-1+ord(\"A\"))\n",
    "            i+=1\n",
    "            n = n//26\n",
    "    string = string[::-1]\n",
    "    print(''.join(string))\n",
    "            "
   ]
  },
  {
   "cell_type": "code",
   "execution_count": 203,
   "metadata": {},
   "outputs": [
    {
     "name": "stdout",
     "output_type": "stream",
     "text": [
      "\u0000\u0000\u0000\u0000\u0000\u0000\u0000\u0000\u0000\u0000\u0000\u0000\u0000\u0000\u0000\u0000\u0000\u0000\u0000\u0000\u0000\u0000\u0000\u0000\u0000\u0000\u0000\u0000\u0000\u0000\u0000\u0000\u0000\u0000\u0000\u0000\u0000\u0000\u0000\u0000\u0000\u0000\u0000\u0000\u0000\u0000\u0000\u0000CB\n",
      "\u0000\u0000\u0000\u0000\u0000\u0000\u0000\u0000\u0000\u0000\u0000\u0000\u0000\u0000\u0000\u0000\u0000\u0000\u0000\u0000\u0000\u0000\u0000\u0000\u0000\u0000\u0000\u0000\u0000\u0000\u0000\u0000\u0000\u0000\u0000\u0000\u0000\u0000\u0000\u0000\u0000\u0000\u0000\u0000\u0000\u0000\u0000\u0000\u0000L\n",
      "\u0000\u0000\u0000\u0000\u0000\u0000\u0000\u0000\u0000\u0000\u0000\u0000\u0000\u0000\u0000\u0000\u0000\u0000\u0000\u0000\u0000\u0000\u0000\u0000\u0000\u0000\u0000\u0000\u0000\u0000\u0000\u0000\u0000\u0000\u0000\u0000\u0000\u0000\u0000\u0000\u0000\u0000\u0000\u0000\u0000\u0000\u0000\u0000CC\n",
      "\u0000\u0000\u0000\u0000\u0000\u0000\u0000\u0000\u0000\u0000\u0000\u0000\u0000\u0000\u0000\u0000\u0000\u0000\u0000\u0000\u0000\u0000\u0000\u0000\u0000\u0000\u0000\u0000\u0000\u0000\u0000\u0000\u0000\u0000\u0000\u0000\u0000\u0000\u0000\u0000\u0000\u0000\u0000EUVHKCN\n"
     ]
    }
   ],
   "source": [
    "name(80)\n",
    "name(12)\n",
    "name(81)\n",
    "name(1804289384)"
   ]
  },
  {
   "cell_type": "markdown",
   "metadata": {},
   "source": [
    "## Stock Buy Sell"
   ]
  },
  {
   "cell_type": "code",
   "execution_count": 168,
   "metadata": {},
   "outputs": [],
   "source": [
    "def buysell(price,n):\n",
    "    if n<2:\n",
    "        return \n",
    "    ans=[]\n",
    "    i=0\n",
    "    while i<n-2:\n",
    "\n",
    "        while (i<n-1) and (price[i]>price[i+1]):\n",
    "            i+=1\n",
    "        \n",
    "        if i == n-1:\n",
    "            break\n",
    "        \n",
    "         \n",
    "        buy = price[i]\n",
    "        i+=1\n",
    "        \n",
    "        while(i<n-1) and (price[i+1]>price[i]):\n",
    "            i+=1\n",
    "        sell = price[i]\n",
    "        ans.append((buy,sell))\n",
    "    return ans"
   ]
  },
  {
   "cell_type": "code",
   "execution_count": 169,
   "metadata": {
    "scrolled": false
   },
   "outputs": [
    {
     "data": {
      "text/plain": [
       "[(1, 24), (2, 50)]"
      ]
     },
     "execution_count": 169,
     "metadata": {},
     "output_type": "execute_result"
    }
   ],
   "source": [
    "price = [3,1,24,4,2,50]\n",
    "buysell(price,len(price))"
   ]
  },
  {
   "cell_type": "markdown",
   "metadata": {},
   "source": [
    "## First Non Repeating Character"
   ]
  },
  {
   "cell_type": "code",
   "execution_count": 178,
   "metadata": {},
   "outputs": [],
   "source": [
    "def detect(S):\n",
    "    dic = Counter(S)\n",
    "    for s in S:\n",
    "        if dic[s]==1:\n",
    "            print(s)\n",
    "            return\n",
    "        \n",
    "    print(-1)\n"
   ]
  },
  {
   "cell_type": "code",
   "execution_count": 180,
   "metadata": {},
   "outputs": [
    {
     "name": "stdout",
     "output_type": "stream",
     "text": [
      "f\n"
     ]
    }
   ],
   "source": [
    "S = 'adsfasdegh'\n",
    "detect(S)"
   ]
  },
  {
   "cell_type": "markdown",
   "metadata": {},
   "source": [
    "## Merge two arrays\n",
    " Given two sorted arrays arr1[] and arr2[] in non-decreasing order with size n and m. The task is to merge the two sorted arrays into one sorted array (in non-decreasing order).\n",
    "\n",
    " Note: Expected time complexity is O((n+m) log(n+m)). DO NOT use extra space. "
   ]
  },
  {
   "cell_type": "code",
   "execution_count": 192,
   "metadata": {},
   "outputs": [],
   "source": [
    "##Find the solution for this problem\n",
    "\n",
    "def merge(a1,a2):\n",
    "    a = a1 +a2\n",
    "    print(sorted(a))\n",
    "    "
   ]
  },
  {
   "cell_type": "code",
   "execution_count": 193,
   "metadata": {},
   "outputs": [
    {
     "name": "stdout",
     "output_type": "stream",
     "text": [
      "[1, 2, 4, 5, 7]\n"
     ]
    }
   ],
   "source": [
    "a1 = [1,4,7]\n",
    "a2 = [2,5]\n",
    "merge(a1,a2)"
   ]
  },
  {
   "cell_type": "markdown",
   "metadata": {},
   "source": []
  },
  {
   "cell_type": "code",
   "execution_count": 202,
   "metadata": {},
   "outputs": [
    {
     "data": {
      "text/plain": [
       "[1, 4, 7]"
      ]
     },
     "execution_count": 202,
     "metadata": {},
     "output_type": "execute_result"
    }
   ],
   "source": []
  },
  {
   "cell_type": "code",
   "execution_count": null,
   "metadata": {},
   "outputs": [],
   "source": []
  }
 ],
 "metadata": {
  "kernelspec": {
   "display_name": "Python 3",
   "language": "python",
   "name": "python3"
  },
  "language_info": {
   "codemirror_mode": {
    "name": "ipython",
    "version": 3
   },
   "file_extension": ".py",
   "mimetype": "text/x-python",
   "name": "python",
   "nbconvert_exporter": "python",
   "pygments_lexer": "ipython3",
   "version": "3.7.4"
  }
 },
 "nbformat": 4,
 "nbformat_minor": 2
}
