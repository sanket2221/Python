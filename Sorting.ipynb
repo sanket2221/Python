{
  "nbformat": 4,
  "nbformat_minor": 0,
  "metadata": {
    "colab": {
      "name": "Sorting.ipynb",
      "provenance": [],
      "collapsed_sections": [],
      "authorship_tag": "ABX9TyPhEhbLSSZUcZvfS48bv4n9"
    },
    "kernelspec": {
      "name": "python3",
      "display_name": "Python 3"
    }
  },
  "cells": [
    {
      "cell_type": "markdown",
      "metadata": {
        "id": "X4frrjQWPuyF",
        "colab_type": "text"
      },
      "source": [
        "## Bubble Sort"
      ]
    },
    {
      "cell_type": "code",
      "metadata": {
        "id": "dLFjVGxjXfHo",
        "colab_type": "code",
        "colab": {}
      },
      "source": [
        "def bubble_sort(array):\n",
        "  for i in range(len(array)-1):\n",
        "    for j in range(len(array)-1-i):\n",
        "      if array[j]>array[j+1]:\n",
        "        array[j],array[j+1] = array[j+1],array[j]\n",
        "  return array"
      ],
      "execution_count": null,
      "outputs": []
    },
    {
      "cell_type": "code",
      "metadata": {
        "id": "citMHHgilgVU",
        "colab_type": "code",
        "colab": {}
      },
      "source": [
        "a= [2,6,4,8,9,2,5]"
      ],
      "execution_count": null,
      "outputs": []
    },
    {
      "cell_type": "code",
      "metadata": {
        "id": "Axg4-mIXliRB",
        "colab_type": "code",
        "colab": {
          "base_uri": "https://localhost:8080/",
          "height": 34
        },
        "outputId": "e1500636-378c-422a-fbdd-422b1ac74255"
      },
      "source": [
        "bubble_sort(a)"
      ],
      "execution_count": null,
      "outputs": [
        {
          "output_type": "execute_result",
          "data": {
            "text/plain": [
              "[2, 2, 4, 5, 6, 8, 9]"
            ]
          },
          "metadata": {
            "tags": []
          },
          "execution_count": 6
        }
      ]
    },
    {
      "cell_type": "markdown",
      "metadata": {
        "id": "2V_iOU_DRyrH",
        "colab_type": "text"
      },
      "source": [
        "##Selection Sort\n",
        "O(N^2)\n",
        "\n",
        "It is an inplace algorithm (no extra memory needed).\n",
        "\n",
        "It proceeds by finding smallest element in the unsorted array.Swap it with leftmost unsorted element,moving the subarray boundaries one element to the right.\n",
        "\n"
      ]
    },
    {
      "cell_type": "code",
      "metadata": {
        "id": "9aQ5o1K8Syex",
        "colab_type": "code",
        "colab": {}
      },
      "source": [
        "def selection_sort(a):\n",
        "  for i in range(len(a)-1):\n",
        "    index = i\n",
        "    for j in range (i+1,len(a)):\n",
        "      if a[j]<a[index]:\n",
        "        index = j\n",
        "    if index!=i:\n",
        "      a[index],a[i] = a[i],a[index] \n",
        "  return a \n"
      ],
      "execution_count": null,
      "outputs": []
    },
    {
      "cell_type": "code",
      "metadata": {
        "id": "3vtUDyzeT7gy",
        "colab_type": "code",
        "colab": {}
      },
      "source": [
        "a = [8,7,9,5,4,1,354,4,1]"
      ],
      "execution_count": null,
      "outputs": []
    },
    {
      "cell_type": "code",
      "metadata": {
        "id": "1cO3rwvQX_gw",
        "colab_type": "code",
        "colab": {
          "base_uri": "https://localhost:8080/",
          "height": 34
        },
        "outputId": "5c503024-fa68-4c8a-c4e3-ce363749e6fc"
      },
      "source": [
        "selection_sort(a)"
      ],
      "execution_count": null,
      "outputs": [
        {
          "output_type": "execute_result",
          "data": {
            "text/plain": [
              "[1, 1, 4, 4, 5, 7, 8, 9, 354]"
            ]
          },
          "metadata": {
            "tags": []
          },
          "execution_count": 17
        }
      ]
    },
    {
      "cell_type": "markdown",
      "metadata": {
        "id": "NywJOUd3wvX3",
        "colab_type": "text"
      },
      "source": [
        "##Insertion sort\n",
        "o(N^2)\n",
        "\n",
        "More efficient than bubble and selection sort.\n",
        "\n",
        "Adaptive algorithm(speeds up when array is already substantially sorted).\n",
        "\n",
        "Inplace algorithm\n"
      ]
    },
    {
      "cell_type": "code",
      "metadata": {
        "id": "vmUYYY0IxSBG",
        "colab_type": "code",
        "colab": {}
      },
      "source": [
        "def insertion_sort(a):\n",
        "  for i in range(len(a)):\n",
        "    j = i \n",
        "    while (j>0) and (a[j-1]>a[j]):\n",
        "      a[j],a[j-1]=a[j-1], a[j]\n",
        "      j = j-1\n",
        "  return a"
      ],
      "execution_count": null,
      "outputs": []
    },
    {
      "cell_type": "code",
      "metadata": {
        "id": "u4YsHM0S3SJZ",
        "colab_type": "code",
        "colab": {}
      },
      "source": [
        "a = [4,5,8,5,1,9,6,1]"
      ],
      "execution_count": null,
      "outputs": []
    },
    {
      "cell_type": "code",
      "metadata": {
        "id": "8woMTXDd3Vj4",
        "colab_type": "code",
        "colab": {
          "base_uri": "https://localhost:8080/",
          "height": 34
        },
        "outputId": "77e32e87-5b87-4fe7-b36d-c8ff6d160e13"
      },
      "source": [
        "insertion_sort(a)"
      ],
      "execution_count": null,
      "outputs": [
        {
          "output_type": "execute_result",
          "data": {
            "text/plain": [
              "[1, 1, 4, 5, 5, 6, 8, 9]"
            ]
          },
          "metadata": {
            "tags": []
          },
          "execution_count": 29
        }
      ]
    },
    {
      "cell_type": "markdown",
      "metadata": {
        "id": "FwTRejGA4e24",
        "colab_type": "text"
      },
      "source": [
        "##Quick Sort\n",
        "Efficient,comparison based,not stable, inplace,average case O(NlogN).\n",
        "It is a divide and conquer algorithm.\n",
        "\n"
      ]
    },
    {
      "cell_type": "code",
      "metadata": {
        "id": "oKMDkwyK5NlN",
        "colab_type": "code",
        "colab": {}
      },
      "source": [
        "def quicksort(a,low,high):\n",
        "  if low >=high:\n",
        "    return\n",
        "  pivot = partition(a,low,high)\n",
        "  quicksort(a,low,pivot-1)\n",
        "  quicksort(a,pivot+1,high)\n",
        "  return a\n",
        "  \n"
      ],
      "execution_count": null,
      "outputs": []
    },
    {
      "cell_type": "code",
      "metadata": {
        "id": "Oti4a4SS_h0A",
        "colab_type": "code",
        "colab": {}
      },
      "source": [
        "def partition(a,low,high):\n",
        "  pivot_index = (low+high)//2\n",
        "  a[pivot_index],a[high]=a[high],a[pivot_index]\n",
        "  i = low\n",
        "  for j in range(low,high):\n",
        "    if a[j]<=a[high]:\n",
        "      a[i],a[j]= a[j],a[i]\n",
        "      i+=1\n",
        "  a[i],a[high] = a[high],a[i]\n",
        "  return i\n",
        "\n",
        "\n",
        "  \n",
        "  "
      ],
      "execution_count": null,
      "outputs": []
    },
    {
      "cell_type": "code",
      "metadata": {
        "id": "JM0jLshV_8mv",
        "colab_type": "code",
        "colab": {
          "base_uri": "https://localhost:8080/",
          "height": 34
        },
        "outputId": "80dc160c-cb23-499d-a374-524acd6da9e1"
      },
      "source": [
        "a= [0,8,6,7,4,13,89]\n",
        "quicksort(a,0,len(a)-1)"
      ],
      "execution_count": null,
      "outputs": [
        {
          "output_type": "execute_result",
          "data": {
            "text/plain": [
              "[0, 4, 6, 7, 8, 13, 89]"
            ]
          },
          "metadata": {
            "tags": []
          },
          "execution_count": 10
        }
      ]
    },
    {
      "cell_type": "markdown",
      "metadata": {
        "id": "maYRmEqwR4pk",
        "colab_type": "text"
      },
      "source": [
        "##Merge Sort\n",
        "Divide and conquer,comparison based,\n",
        "O(NlogN ),stable,not an inplace algo,(best for sorting linklist).\n",
        "\n",
        "1.Divide the array into subarray recursively\n",
        "\n",
        "2.sort these subarrays recursively with merge sort again.\n",
        "\n",
        "3.If there is only a single item left in the subarray,we consider it to be sorted.\n",
        "4.merge the subarrays to get the final sorted array.\n",
        "\n"
      ]
    },
    {
      "cell_type": "code",
      "metadata": {
        "id": "NZOveH15ZVxm",
        "colab_type": "code",
        "colab": {}
      },
      "source": [
        "def merge_sort(arr):\n",
        "    \n",
        "    if len(arr)>1:\n",
        "        mid = len(arr)/2\n",
        "        lefthalf = arr[:mid]\n",
        "        righthalf = arr[mid:]\n",
        "\n",
        "        merge_sort(lefthalf)\n",
        "        merge_sort(righthalf)\n",
        "\n",
        "        i=0\n",
        "        j=0\n",
        "        k=0\n",
        "        while i < len(lefthalf) and j < len(righthalf):\n",
        "            if lefthalf[i] < righthalf[j]:\n",
        "                arr[k]=lefthalf[i]\n",
        "                i=i+1\n",
        "            else:\n",
        "                arr[k]=righthalf[j]\n",
        "                j=j+1\n",
        "            k=k+1\n",
        "\n",
        "        while i < len(lefthalf):\n",
        "            arr[k]=lefthalf[i]\n",
        "            i=i+1\n",
        "            k=k+1\n",
        "\n",
        "        while j < len(righthalf):\n",
        "            arr[k]=righthalf[j]\n",
        "            j=j+1\n",
        "            k=k+1"
      ],
      "execution_count": 3,
      "outputs": []
    },
    {
      "cell_type": "code",
      "metadata": {
        "id": "xwefgKRHZr8m",
        "colab_type": "code",
        "colab": {
          "base_uri": "https://localhost:8080/",
          "height": 34
        },
        "outputId": "10151c43-2048-4bde-e37d-a1d0c4540e06"
      },
      "source": [
        "a = [5,8,6,2,4,98,3]\n",
        "mergesort(a)\n",
        "a"
      ],
      "execution_count": 4,
      "outputs": [
        {
          "output_type": "execute_result",
          "data": {
            "text/plain": [
              "[2, 3, 4, 5, 6, 8, 98]"
            ]
          },
          "metadata": {
            "tags": []
          },
          "execution_count": 4
        }
      ]
    },
    {
      "cell_type": "markdown",
      "metadata": {
        "id": "GDyNPUmD1sES",
        "colab_type": "text"
      },
      "source": [
        ""
      ]
    }
  ]
}