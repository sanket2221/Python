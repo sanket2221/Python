{
 "cells": [
  {
   "cell_type": "code",
   "execution_count": 39,
   "metadata": {},
   "outputs": [],
   "source": [
    "def createStack():\n",
    "    stack = []\n",
    "    return stack\n",
    "def push(stack,value):\n",
    "    return stack.append(value)\n",
    "def printstack(stack):\n",
    "    return print(stack)\n",
    "\n",
    "def insertAtBotton(stack,item):\n",
    "    if len(stack)==0:\n",
    "        print('0',item)\n",
    "        push(stack,item)\n",
    "    else:\n",
    "        temp = stack.pop()\n",
    "        insertAtBotton(stack,item)\n",
    "        print(temp)\n",
    "        push(stack,temp)\n",
    "        \n",
    "        \n",
    "def reverseStack(stack):\n",
    "    if len(stack)!=0:\n",
    "        \n",
    "        temp = stack.pop()\n",
    "        print('r',temp)\n",
    "        reverseStack(stack)\n",
    "        print('iat')\n",
    "        insertAtBotton(stack,temp)"
   ]
  },
  {
   "cell_type": "code",
   "execution_count": 40,
   "metadata": {},
   "outputs": [],
   "source": [
    "stack = createStack()"
   ]
  },
  {
   "cell_type": "code",
   "execution_count": 41,
   "metadata": {},
   "outputs": [],
   "source": [
    "push(stack,1)\n",
    "push(stack,2)\n",
    "push(stack,3)\n",
    "push(stack,4)"
   ]
  },
  {
   "cell_type": "code",
   "execution_count": 23,
   "metadata": {},
   "outputs": [
    {
     "name": "stdout",
     "output_type": "stream",
     "text": [
      "[1, 2, 3, 4]\n"
     ]
    }
   ],
   "source": [
    "printstack(stack)"
   ]
  },
  {
   "cell_type": "code",
   "execution_count": 6,
   "metadata": {},
   "outputs": [
    {
     "data": {
      "text/plain": [
       "4"
      ]
     },
     "execution_count": 6,
     "metadata": {},
     "output_type": "execute_result"
    }
   ],
   "source": [
    "stack.pop()"
   ]
  },
  {
   "cell_type": "code",
   "execution_count": 42,
   "metadata": {},
   "outputs": [
    {
     "name": "stdout",
     "output_type": "stream",
     "text": [
      "r 4\n",
      "r 3\n",
      "r 2\n",
      "r 1\n",
      "iat\n",
      "0 1\n",
      "iat\n",
      "0 2\n",
      "1\n",
      "iat\n",
      "0 3\n",
      "2\n",
      "1\n",
      "iat\n",
      "0 4\n",
      "3\n",
      "2\n",
      "1\n"
     ]
    }
   ],
   "source": [
    "reverseStack(stack)"
   ]
  },
  {
   "cell_type": "code",
   "execution_count": 31,
   "metadata": {},
   "outputs": [
    {
     "name": "stdout",
     "output_type": "stream",
     "text": [
      "[4, 3, 2, 1]\n"
     ]
    }
   ],
   "source": [
    "print(stack)"
   ]
  },
  {
   "cell_type": "code",
   "execution_count": 26,
   "metadata": {},
   "outputs": [
    {
     "name": "stdout",
     "output_type": "stream",
     "text": [
      "[]\n"
     ]
    }
   ],
   "source": [
    "printstack(stack)"
   ]
  },
  {
   "cell_type": "code",
   "execution_count": null,
   "metadata": {},
   "outputs": [],
   "source": []
  }
 ],
 "metadata": {
  "kernelspec": {
   "display_name": "Python 3",
   "language": "python",
   "name": "python3"
  },
  "language_info": {
   "codemirror_mode": {
    "name": "ipython",
    "version": 3
   },
   "file_extension": ".py",
   "mimetype": "text/x-python",
   "name": "python",
   "nbconvert_exporter": "python",
   "pygments_lexer": "ipython3",
   "version": "3.7.4"
  }
 },
 "nbformat": 4,
 "nbformat_minor": 2
}
